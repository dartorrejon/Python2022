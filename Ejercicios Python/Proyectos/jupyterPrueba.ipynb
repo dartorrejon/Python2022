{
 "cells": [
  {
   "cell_type": "code",
   "execution_count": 2,
   "metadata": {},
   "outputs": [
    {
     "name": "stdout",
     "output_type": "stream",
     "text": [
      "[['TORRE', '-', '-', '-', '-', '-', '-', 'TORRE'], ['-', '-', '-', '-', '-', '-', '-', '-'], ['-', '-', '-', '-', '-', '-', '-', '-'], ['-', '-', '-', '-', '-', '-', '-', '-'], ['-', '-', '-', '-', '-', '-', '-', '-'], ['-', '-', '-', '-', '-', '-', '-', '-'], ['-', '-', '-', '-', '-', '-', '-', '-'], ['TORRE', '-', '-', '-', '-', '-', '-', 'TORRE']]\n"
     ]
    }
   ],
   "source": [
    "EMPTY = \"-\"\n",
    "PAWN = \"PEON\"\n",
    "ROOK = \"TORRE\"\n",
    "KNIGHT = \"CABALLO\"\n",
    "board = []\n",
    "\n",
    "# for i in range(8):\n",
    "#     row = [EMPTY for i in range(8)]\n",
    "#     board.append(row)\n",
    "board = [[EMPTY for i in range(8)]for j in range(8)]\n",
    "\n",
    "board[0][0] = ROOK\n",
    "board[0][7] = ROOK\n",
    "board[7][0] = ROOK\n",
    "board[7][7] = ROOK\n",
    "\n",
    "print(board)"
   ]
  },
  {
   "cell_type": "code",
   "execution_count": 43,
   "metadata": {},
   "outputs": [
    {
     "name": "stdout",
     "output_type": "stream",
     "text": [
      "La altura de la piramide es 1\n"
     ]
    }
   ],
   "source": [
    "bloques = int(input(\"Ingrese la cantidad de bloques para construir la piramide\"))\n",
    "pisos = 0\n",
    "cant = 0\n",
    "cont = 0\n",
    "while cant < bloques:\n",
    "    cont +=1\n",
    "    cant +=cont\n",
    "    if cant <= bloques:\n",
    "        pisos += 1\n",
    "\n",
    "# if bloques == 1:\n",
    "#     print(\"La altura de la piramide es 1\")\n",
    "# else:\n",
    "print(\"La altura de la piramide es \"+str(pisos))\n",
    "\n"
   ]
  },
  {
   "cell_type": "code",
   "execution_count": 1,
   "metadata": {},
   "outputs": [
    {
     "name": "stdout",
     "output_type": "stream",
     "text": [
      "[1, 2, 3, 4, 5, 6, 7, 8, 9, 10, 11, 12, 13]\n",
      "6\n",
      "[13, 12, 11, 10, 9, 8, 7, 6, 5, 4, 3, 2, 1]\n"
     ]
    }
   ],
   "source": [
    "nums = [1,2,3,4,5,6,7,8,9,10,11,12,13]\n",
    "print(nums)\n",
    "medio  = int(len(nums)/2)\n",
    "print(medio)\n",
    "fin = -1\n",
    "for i in range(0,medio):\n",
    "    nums[i], nums[fin] = nums[fin], nums[i]\n",
    "    fin -=1\n",
    "print(nums)"
   ]
  },
  {
   "cell_type": "code",
   "execution_count": 4,
   "metadata": {},
   "outputs": [
    {
     "name": "stdout",
     "output_type": "stream",
     "text": [
      "{'gato': 'chat', 'perro': 'chien', 'caballo': 'cheval'}\n",
      "{'gato': 'cat', 'perro': 'dog', 'elefante': 'elephant', 'serpiente': 'snake'}\n",
      "{'jefe': 5551234567, 'Suzy': 22657854310}\n",
      "{}\n",
      "elephant\n"
     ]
    }
   ],
   "source": [
    "dictionary = {\"gato\" : \"chat\", \"perro\" : \"chien\", \"caballo\" : \"cheval\"}\n",
    "dic2 = {\"gato\":\"cat\",\"perro\":\"dog\",\"elefante\":\"elephant\",\"serpiente\":\"snake\"}\n",
    "phone_numbers = {'jefe': 5551234567, 'Suzy': 22657854310}\n",
    "empty_dictionary = {}\n",
    "\n",
    "print(dictionary)\n",
    "print(dic2)\n",
    "print(phone_numbers)\n",
    "print(empty_dictionary)\n",
    "\n",
    "print(dic2[\"elefante\"])\n"
   ]
  },
  {
   "cell_type": "code",
   "execution_count": 27,
   "metadata": {},
   "outputs": [
    {
     "ename": "SyntaxError",
     "evalue": "'break' outside loop (1398856991.py, line 3)",
     "output_type": "error",
     "traceback": [
      "\u001b[1;36m  Input \u001b[1;32mIn [27]\u001b[1;36m\u001b[0m\n\u001b[1;33m    break\u001b[0m\n\u001b[1;37m    ^\u001b[0m\n\u001b[1;31mSyntaxError\u001b[0m\u001b[1;31m:\u001b[0m 'break' outside loop\n"
     ]
    }
   ],
   "source": [
    "dd = {\"1\":\"0\", \"0\":\"1\"}\n",
    "\n",
    "for x in dd.vals"
   ]
  }
 ],
 "metadata": {
  "interpreter": {
   "hash": "5d2bcaef1f85834b7f9b4b6032f2ff2fdec8300158cdd0a586b8e5d240a4261e"
  },
  "kernelspec": {
   "display_name": "Python 3.10.4 64-bit",
   "language": "python",
   "name": "python3"
  },
  "language_info": {
   "codemirror_mode": {
    "name": "ipython",
    "version": 3
   },
   "file_extension": ".py",
   "mimetype": "text/x-python",
   "name": "python",
   "nbconvert_exporter": "python",
   "pygments_lexer": "ipython3",
   "version": "3.10.4"
  },
  "orig_nbformat": 4
 },
 "nbformat": 4,
 "nbformat_minor": 2
}
