{
 "cells": [
  {
   "cell_type": "code",
   "execution_count": null,
   "metadata": {},
   "outputs": [],
   "source": [
    "my_list = [1, 2, 4, 4, 1, 4, 2, 6, 2, 9]\n",
    "prueba_lista = []\n",
    "#\n",
    "# Escribe tu código aquí.\n",
    "#\n",
    "for i in my_list:\n",
    "    if i in prueba_lista:\n",
    "        continue\n",
    "    if i not in prueba_lista:\n",
    "        prueba_lista.append(i)\n",
    "\n",
    "print(\"La lista con elementos únicos:\")\n",
    "print(prueba_lista)\n"
   ]
  },
  {
   "cell_type": "code",
   "execution_count": 1,
   "metadata": {},
   "outputs": [
    {
     "name": "stdout",
     "output_type": "stream",
     "text": [
      "1900 2 ->OK\n",
      "2000 2 ->OK\n",
      "2016 1 ->OK\n",
      "1987 11 ->OK\n",
      "1983 2 ->OK\n"
     ]
    }
   ],
   "source": [
    "'''Objetivos\n",
    "Familiarizar al estudiante con:\n",
    "\n",
    "Proyectar y escribir funciones parametrizadas.\n",
    "Utilizar la instrucción return.\n",
    "Utilizar las funciones propias del estudiante.\n",
    "\n",
    "Escenario\n",
    "Tu tarea es escribir y probar una función que toma dos argumentos (un año y un mes) y devuelve el número \n",
    "de días del mes/año dado (mientras que solo febrero es sensible al valor year, tu función debería ser\n",
    "universal).\n",
    "\n",
    "La parte inicial de la función está lista. Ahora, haz que la función devuelva None si los argumentos\n",
    "no tienen sentido.\n",
    "\n",
    "Por supuesto, puedes (y debes) utilizar la función previamente escrita y probada (LABORATORIO 4.1.3.6).\n",
    "Puede ser muy útil. Te recomendamos que utilices una lista con los meses. Puedes crearla dentro de\n",
    "la función; este truco acortará significativamente el código.\n",
    "\n",
    "Hemos preparado un código de prueba. Amplíalo para incluir más casos de prueba.'''\n",
    "\n",
    "def is_year_leap(año):\n",
    "    if año % 4 != 0: #no divisible entre 4\n",
    "        return False\n",
    "    elif año % 4 == 0 and año % 100 != 0: #divisible entre 4 y no entre 100 o 400\n",
    "        return True\n",
    "    elif año % 4 == 0 and año % 100 == 0 and año % 400 != 0: #divisible entre 4 y 10 y no entre 400\n",
    "        return False\n",
    "    elif año % 4 == 0 and año % 100 == 0 and año % 400 == 0: #divisible entre 4, 100 y 400\n",
    "    \treturn True\n",
    "\n",
    "def days_in_month(year, month):\n",
    "    meses31 = [1,3,5,7,8,10,12]\n",
    "    meses30 = [4,6,9,11]\n",
    "    if month in meses31:\n",
    "        return 31\n",
    "    elif month in meses30:\n",
    "        return 30\n",
    "    elif month == 2 and is_year_leap(year):\n",
    "        return 29\n",
    "    elif month == 2 and not is_year_leap(year):\n",
    "        return 28\n",
    "    else: return\n",
    "\n",
    "test_years = [1900, 2000, 2016, 1987,1983]\n",
    "test_months = [2, 2, 1, 11,2]   \n",
    "test_results = [28, 29, 31, 30,28]\n",
    "for i in range(len(test_years)):\n",
    "    yr = test_years[i]\n",
    "    mo = test_months[i]\n",
    "    print(yr, mo, \"->\", end=\"\")\n",
    "    result = days_in_month(yr, mo)\n",
    "    if result == test_results[i]:\n",
    "        print(\"OK\")\n",
    "    else:\n",
    "        print(\"Fallido\")"
   ]
  },
  {
   "cell_type": "code",
   "execution_count": 33,
   "metadata": {},
   "outputs": [
    {
     "name": "stdout",
     "output_type": "stream",
     "text": [
      "True False\n"
     ]
    }
   ],
   "source": [
    "my_string1 = 'Bond'\n",
    "my_string2= 'James Bond'\n",
    "print(my_string1.isalpha(), my_string2.isalpha())"
   ]
  },
  {
   "cell_type": "code",
   "execution_count": 34,
   "metadata": {},
   "outputs": [
    {
     "name": "stdout",
     "output_type": "stream",
     "text": [
      "False\n",
      "False\n",
      "True\n",
      "1 2 1\n",
      "True False\n"
     ]
    }
   ],
   "source": [
    "class SampleClass:\n",
    "    def __init__(self, val):\n",
    "        self.val = val\n",
    "\n",
    "\n",
    "object_1 = SampleClass(0)\n",
    "object_2 = SampleClass(2)\n",
    "object_3 = object_1\n",
    "object_3.val += 1\n",
    "\n",
    "print(object_1 is object_2)\n",
    "print(object_2 is object_3)\n",
    "print(object_3 is object_1)\n",
    "print(object_1.val, object_2.val, object_3.val)\n",
    "\n",
    "string_1 = \"Mary tenía un \"\n",
    "string_2 = \"Mary tenía un corderito\"\n",
    "string_1 += \"corderito\"\n",
    "\n",
    "print(string_1 == string_2, string_1 is string_2)\n"
   ]
  }
 ],
 "metadata": {
  "interpreter": {
   "hash": "5d2bcaef1f85834b7f9b4b6032f2ff2fdec8300158cdd0a586b8e5d240a4261e"
  },
  "kernelspec": {
   "display_name": "Python 3.10.4 64-bit",
   "language": "python",
   "name": "python3"
  },
  "language_info": {
   "codemirror_mode": {
    "name": "ipython",
    "version": 3
   },
   "file_extension": ".py",
   "mimetype": "text/x-python",
   "name": "python",
   "nbconvert_exporter": "python",
   "pygments_lexer": "ipython3",
   "version": "3.10.4"
  },
  "orig_nbformat": 4
 },
 "nbformat": 4,
 "nbformat_minor": 2
}
